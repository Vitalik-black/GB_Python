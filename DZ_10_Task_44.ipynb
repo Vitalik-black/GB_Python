{
  "nbformat": 4,
  "nbformat_minor": 0,
  "metadata": {
    "colab": {
      "provenance": [],
      "authorship_tag": "ABX9TyNQvBlS7BRCMTuoNjH5cFRc",
      "include_colab_link": true
    },
    "kernelspec": {
      "name": "python3",
      "display_name": "Python 3"
    },
    "language_info": {
      "name": "python"
    }
  },
  "cells": [
    {
      "cell_type": "markdown",
      "metadata": {
        "id": "view-in-github",
        "colab_type": "text"
      },
      "source": [
        "<a href=\"https://colab.research.google.com/github/Vitalik-black/GB_Python/blob/main/DZ_10_Task_44.ipynb\" target=\"_parent\"><img src=\"https://colab.research.google.com/assets/colab-badge.svg\" alt=\"Open In Colab\"/></a>"
      ]
    },
    {
      "cell_type": "code",
      "execution_count": 11,
      "metadata": {
        "colab": {
          "base_uri": "https://localhost:8080/"
        },
        "id": "k7yV6GdP-7mn",
        "outputId": "2e1f643a-9393-4e43-a8dd-f23d5d881d8a"
      },
      "outputs": [
        {
          "output_type": "stream",
          "name": "stdout",
          "text": [
            "    human\n",
            "0       1\n",
            "1       1\n",
            "2       0\n",
            "3       1\n",
            "4       0\n",
            "5       1\n",
            "6       1\n",
            "7       0\n",
            "8       1\n",
            "9       1\n",
            "10      0\n",
            "11      0\n",
            "12      0\n",
            "13      0\n",
            "14      0\n",
            "15      1\n",
            "16      0\n",
            "17      0\n",
            "18      1\n",
            "19      1\n",
            "    human  robot\n",
            "0       1      0\n",
            "1       1      0\n",
            "2       0      1\n",
            "3       1      0\n",
            "4       0      1\n",
            "5       1      0\n",
            "6       1      0\n",
            "7       0      1\n",
            "8       1      0\n",
            "9       1      0\n",
            "10      0      1\n",
            "11      0      1\n",
            "12      0      1\n",
            "13      0      1\n",
            "14      0      1\n",
            "15      1      0\n",
            "16      0      1\n",
            "17      0      1\n",
            "18      1      0\n",
            "19      1      0\n"
          ]
        }
      ],
      "source": [
        "import pandas as pd\n",
        "import random\n",
        "lst = ['robot'] * 10\n",
        "lst += ['human'] * 10\n",
        "random.shuffle (lst)\n",
        "data = pd.DataFrame({'whoAmI': lst})\n",
        "data.head()\n",
        "temp_values = data ['whoAmI'].unique ()\n",
        "one_hot_data = pd.DataFrame ()\n",
        "for value in temp_values:\n",
        "  one_hot_data[value] = (data['whoAmI'] == value).astype(int)\n",
        "  one_hot_data.head()\n",
        "  print (one_hot_data)"
      ]
    }
  ]
}